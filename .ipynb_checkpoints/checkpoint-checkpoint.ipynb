{
 "cells": [
  {
   "cell_type": "code",
   "execution_count": 1,
   "id": "4d69a137-9de2-4c6c-a721-a533dad3c597",
   "metadata": {},
   "outputs": [],
   "source": [
    "import pandas as pd\n",
    "import numpy as np\n",
    "import matplotlib.pyplot as plt"
   ]
  },
  {
   "cell_type": "code",
   "execution_count": 2,
   "id": "2ece7116-a1da-49c3-9af5-9759c047dd66",
   "metadata": {},
   "outputs": [],
   "source": [
    "FemAct = pd.read_csv('FemAct.csv')\n",
    "MaleAct = pd.read_csv('MaleAct.csv')\n",
    "FemTemp = pd.read_csv('FemTemp.csv')\n",
    "MaleTemp = pd.read_csv('MaleTemp.csv')"
   ]
  },
  {
   "cell_type": "code",
   "execution_count": null,
   "id": "e1417cd0-f2e8-4efa-8693-a8b11b7618ff",
   "metadata": {},
   "outputs": [],
   "source": []
  },
  {
   "cell_type": "code",
   "execution_count": null,
   "id": "9c601a19-b201-425b-b4e3-8c15c1c023c1",
   "metadata": {},
   "outputs": [],
   "source": []
  },
  {
   "cell_type": "code",
   "execution_count": null,
   "id": "1b1ebf22-c1c4-4062-b641-37692d6e3c5a",
   "metadata": {},
   "outputs": [],
   "source": []
  },
  {
   "cell_type": "code",
   "execution_count": null,
   "id": "22da669e-810c-4ea8-b363-4307236ecad8",
   "metadata": {},
   "outputs": [],
   "source": []
  }
 ],
 "metadata": {
  "kernelspec": {
   "display_name": "Python 3 (ipykernel)",
   "language": "python",
   "name": "python3"
  },
  "language_info": {
   "codemirror_mode": {
    "name": "ipython",
    "version": 3
   },
   "file_extension": ".py",
   "mimetype": "text/x-python",
   "name": "python",
   "nbconvert_exporter": "python",
   "pygments_lexer": "ipython3",
   "version": "3.12.4"
  }
 },
 "nbformat": 4,
 "nbformat_minor": 5
}
